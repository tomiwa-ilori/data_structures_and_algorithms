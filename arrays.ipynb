{
 "cells": [
  {
   "cell_type": "markdown",
   "metadata": {},
   "source": [
    "# Getting Started with Arrays - Python"
   ]
  },
  {
   "cell_type": "markdown",
   "metadata": {},
   "source": [
    "##### Reference: https://www.udemy.com/course/python-arrays/learn/lecture/27293568#overview"
   ]
  },
  {
   "cell_type": "code",
   "execution_count": 1,
   "metadata": {},
   "outputs": [],
   "source": [
    "# import packages\n",
    "\n",
    "import numpy as np"
   ]
  },
  {
   "cell_type": "code",
   "execution_count": 2,
   "metadata": {},
   "outputs": [
    {
     "data": {
      "text/plain": [
       "array([1, 2, 3, 4])"
      ]
     },
     "execution_count": 2,
     "metadata": {},
     "output_type": "execute_result"
    }
   ],
   "source": [
    "# creating arrays \n",
    "# can be created \n",
    "np.array([1,2,3,4])\n",
    "\n",
    "# or\n",
    "\n",
    "np.array((1,2,3,4))"
   ]
  },
  {
   "cell_type": "code",
   "execution_count": 11,
   "metadata": {},
   "outputs": [
    {
     "data": {
      "text/plain": [
       "array([0, 2, 4, 6])"
      ]
     },
     "execution_count": 11,
     "metadata": {},
     "output_type": "execute_result"
    }
   ],
   "source": [
    "# can be created using the arange() method\n",
    "# works just like your range() method\n",
    "np.arange(5)\n",
    "\n",
    "# or\n",
    "\n",
    "np.arange(0,7,2)"
   ]
  },
  {
   "cell_type": "code",
   "execution_count": 7,
   "metadata": {},
   "outputs": [
    {
     "data": {
      "text/plain": [
       "array([[19, 17, 23],\n",
       "       [20, 22, 23]])"
      ]
     },
     "execution_count": 7,
     "metadata": {},
     "output_type": "execute_result"
    }
   ],
   "source": [
    "# or with random integer function\n",
    "# first and second argument is the start and stop numbers to generate random numbers between\n",
    "# third is the shape of the array 5 for 1D, (2,3) 2 by 3 2D array\n",
    "np.random.randint(1,26,5)\n",
    "\n",
    "# or\n",
    "\n",
    "np.random.randint(1,26,(2,3))"
   ]
  },
  {
   "cell_type": "code",
   "execution_count": 8,
   "metadata": {},
   "outputs": [
    {
     "name": "stdout",
     "output_type": "stream",
     "text": [
      "int64\n"
     ]
    }
   ],
   "source": [
    "# to check the type of an array\n",
    "arr = np.random.randint(1,26,5)\n",
    "print (arr.dtype)\n",
    "\n",
    "# Note\n",
    "# If you store an array of ints and one element is float, the dtype of the array becomes float\n",
    "# If you store an array of ints and one element is boolean, the dtype of the array becomes int\n",
    "# If you store an array of ints and one element is float and another is boolean, the dtype of the array becomes float\n",
    "# If you store an array of ints and one element is float, another is boolean, another is string, the dtype of the array becomes string"
   ]
  },
  {
   "cell_type": "code",
   "execution_count": 26,
   "metadata": {},
   "outputs": [
    {
     "data": {
      "text/plain": [
       "array([ 1,  2,  3,  4,  5,  6,  7,  8,  9, 10, 11, 12])"
      ]
     },
     "execution_count": 26,
     "metadata": {},
     "output_type": "execute_result"
    }
   ],
   "source": [
    "# reshaping arrays\n",
    "# first we create a 1D array\n",
    "\n",
    "arr = np.random.randint(1,5,5)\n",
    "arr = np.arange(1,13,1)\n",
    "arr"
   ]
  },
  {
   "cell_type": "code",
   "execution_count": 27,
   "metadata": {},
   "outputs": [
    {
     "data": {
      "text/plain": [
       "(12,)"
      ]
     },
     "execution_count": 27,
     "metadata": {},
     "output_type": "execute_result"
    }
   ],
   "source": [
    "# check the shape and confirm it's 1D\n",
    "arr.shape"
   ]
  },
  {
   "cell_type": "code",
   "execution_count": 29,
   "metadata": {},
   "outputs": [
    {
     "data": {
      "text/plain": [
       "array([[ 1,  2,  3,  4,  5,  6],\n",
       "       [ 7,  8,  9, 10, 11, 12]])"
      ]
     },
     "execution_count": 29,
     "metadata": {},
     "output_type": "execute_result"
    }
   ],
   "source": [
    "# re-shape the array\n",
    "# to reshape to an evenly distributed array, you must have a total number of elements which is divisible by the array you are trying to reshape into\n",
    "\n",
    "# re-shape to a 2x3 array\n",
    "arr_2D = arr.reshape(2,6)\n",
    "arr_2D"
   ]
  },
  {
   "cell_type": "code",
   "execution_count": 31,
   "metadata": {},
   "outputs": [
    {
     "data": {
      "text/plain": [
       "array([[ 1,  2,  3,  4],\n",
       "       [ 5,  6,  7,  8],\n",
       "       [ 9, 10, 11, 12]])"
      ]
     },
     "execution_count": 31,
     "metadata": {},
     "output_type": "execute_result"
    }
   ],
   "source": [
    "# re-shape to a 3x4\n",
    "arr_3D = arr.reshape(3,4)\n",
    "arr_3D"
   ]
  },
  {
   "cell_type": "code",
   "execution_count": 33,
   "metadata": {},
   "outputs": [
    {
     "data": {
      "text/plain": [
       "array([[ 1,  2,  3,  4,  5,  6,  7,  8,  9, 10, 11, 12]])"
      ]
     },
     "execution_count": 33,
     "metadata": {},
     "output_type": "execute_result"
    }
   ],
   "source": [
    "# re-shaping to unknown dimensions\n",
    "# only one unknown dimension can be provided\n",
    "arr_unknown_dim = arr.reshape(-1,12)\n",
    "arr_unknown_dim"
   ]
  },
  {
   "cell_type": "code",
   "execution_count": 35,
   "metadata": {},
   "outputs": [
    {
     "data": {
      "text/plain": [
       "array([[ 1],\n",
       "       [ 2],\n",
       "       [ 3],\n",
       "       [ 4],\n",
       "       [ 5],\n",
       "       [ 6],\n",
       "       [ 7],\n",
       "       [ 8],\n",
       "       [ 9],\n",
       "       [10],\n",
       "       [11],\n",
       "       [12]])"
      ]
     },
     "execution_count": 35,
     "metadata": {},
     "output_type": "execute_result"
    }
   ],
   "source": [
    "arr_unknown_dim = arr.reshape(12,-1)\n",
    "arr_unknown_dim"
   ]
  },
  {
   "cell_type": "code",
   "execution_count": 34,
   "metadata": {},
   "outputs": [
    {
     "data": {
      "text/plain": [
       "array([[ 1,  2,  3],\n",
       "       [ 4,  5,  6],\n",
       "       [ 7,  8,  9],\n",
       "       [10, 11, 12]])"
      ]
     },
     "execution_count": 34,
     "metadata": {},
     "output_type": "execute_result"
    }
   ],
   "source": [
    "arr_unknown_dim = arr.reshape(4,-1)\n",
    "arr_unknown_dim"
   ]
  },
  {
   "cell_type": "code",
   "execution_count": 43,
   "metadata": {},
   "outputs": [
    {
     "name": "stdout",
     "output_type": "stream",
     "text": [
      "1\n",
      "2\n"
     ]
    }
   ],
   "source": [
    "a = ['tea', 'tea', 'act']\n",
    "b = ['ate', 'toe', 'acts']\n",
    "count = 0\n",
    "\n",
    "for i,j in zip(a,b):\n",
    "    if (set(i) != set(j)):\n",
    "            count += 1\n",
    "            print (count)\n",
    "        #if set(i) == set(j):\n",
    "        #print (set(i), set(j))\n",
    "\n",
    "        #if sorted(list(i)) != sorted(list(j)):\n",
    "         #   print (sorted(list(i)) , sorted(list(j)))\n",
    "            #print ('yes')"
   ]
  },
  {
   "cell_type": "code",
   "execution_count": 48,
   "metadata": {},
   "outputs": [],
   "source": [
    "def getMinimumDifference(a, b):\n",
    "    outcome = []\n",
    "    for i,j in zip(a,b):\n",
    "        if set(i) == set(j):\n",
    "            outcome.append(0) # store anagrams that do no need to be modified\n",
    "        elif len(i) != len(j):\n",
    "           outcome.append(-1) # store anagrams that contain different lenght of characters \n",
    "        else:\n",
    "            count = 0\n",
    "            if (set(i) != set(j)):\n",
    "                count += 1\n",
    "                outcome.append(count)  \n",
    "    return outcome\n",
    "        #elif len(i) != len(j):\n",
    "        #   outcome.append(-1)"
   ]
  },
  {
   "cell_type": "code",
   "execution_count": 49,
   "metadata": {},
   "outputs": [
    {
     "data": {
      "text/plain": [
       "[0, 1, 1, -1]"
      ]
     },
     "execution_count": 49,
     "metadata": {},
     "output_type": "execute_result"
    }
   ],
   "source": [
    "a = ['tea', 'tea', 'abb', 'act']\n",
    "b = ['ate', 'toe', 'bbc', 'acts']\n",
    "getMinimumDifference(a, b)"
   ]
  },
  {
   "cell_type": "code",
   "execution_count": null,
   "metadata": {},
   "outputs": [],
   "source": []
  }
 ],
 "metadata": {
  "kernelspec": {
   "display_name": "Python 3.10.5 ('venv': venv)",
   "language": "python",
   "name": "python3"
  },
  "language_info": {
   "codemirror_mode": {
    "name": "ipython",
    "version": 3
   },
   "file_extension": ".py",
   "mimetype": "text/x-python",
   "name": "python",
   "nbconvert_exporter": "python",
   "pygments_lexer": "ipython3",
   "version": "3.10.5"
  },
  "orig_nbformat": 4,
  "vscode": {
   "interpreter": {
    "hash": "fff13c38a46822d60c7b73f796a2111ff12f39e782d1b078f198f70cbfb24acd"
   }
  }
 },
 "nbformat": 4,
 "nbformat_minor": 2
}
