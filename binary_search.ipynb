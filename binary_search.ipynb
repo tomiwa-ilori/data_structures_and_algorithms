{
 "cells": [
  {
   "cell_type": "markdown",
   "metadata": {},
   "source": [
    "### Learning How Binary Search is implemented in Data Structures and Algorithms"
   ]
  },
  {
   "cell_type": "code",
   "execution_count": 6,
   "metadata": {},
   "outputs": [],
   "source": [
    "def binary_search(list_numbers, query):\n",
    "    first = 0                      # get the position of the first element in the list\n",
    "    last = len(list_numbers) - 1   # get the position of the last element in the list\n",
    "\n",
    "    while first <= last:                            # while there are still elements in the list\n",
    "        midpoint = (first + last) // 2 # obtain the midpoint of the element\n",
    "\n",
    "        if list_numbers[midpoint] == query:         # if the midpoint value is equivalent to the query - best case scenario\n",
    "            return midpoint\n",
    "        elif list_numbers[midpoint] < query:        # if the midpoint value is less than the query - worst case scenario\n",
    "            first = midpoint + 1                    # eliminate the values before the midpoint in the list\n",
    "        else:\n",
    "            last = midpoint - 1                     # eliminate the values after the midpoint in the list\n",
    "    \n",
    "    return None\n",
    "\n",
    "\n",
    "\n",
    "def query_status(query_index):\n",
    "    \"\"\"\n",
    "    If the query exists, print the position. If not, raise notification\n",
    "    \"\"\"\n",
    "    if query_index is not None:\n",
    "        print (\"Value exists and is located at index\", query_index)\n",
    "    else:\n",
    "        print (\"Value does not exist!\")"
   ]
  },
  {
   "cell_type": "code",
   "execution_count": 7,
   "metadata": {},
   "outputs": [
    {
     "name": "stdout",
     "output_type": "stream",
     "text": [
      "Value does not exist!\n"
     ]
    }
   ],
   "source": [
    "# create a list\n",
    "numbers  = [1,2,3,4,5,6,7,8,9,10]\n",
    "query = 7\n",
    "\n",
    "\"\"\"\n",
    "first = 0                      # get the position of the first element in the list\n",
    "last = len(list_numbers) - 1   # get the position of the last element in the list\n",
    "\n",
    "midpoint = (first + last) // 2 # obtain the midpoint of the element\n",
    "midpoint = 0 + 9, 9 // 2 = 4 # floor division\n",
    "\n",
    "Since, element at midpoint is 5 and we looking for 7, it must exist to right. \n",
    "So in second iteration, we now set first to mid + 1 (i.e. 4 + 1 = 5)\n",
    "\n",
    "Iteration 2:\n",
    "\n",
    "first = 5, last = 9\n",
    "\n",
    "\"\"\"\n",
    "# run functions on the list and target query\n",
    "outcome = binary_search(numbers, query)\n",
    "query_status(outcome)"
   ]
  },
  {
   "cell_type": "code",
   "execution_count": null,
   "metadata": {},
   "outputs": [],
   "source": []
  }
 ],
 "metadata": {
  "kernelspec": {
   "display_name": "Python 3.10.5 ('venv': venv)",
   "language": "python",
   "name": "python3"
  },
  "language_info": {
   "codemirror_mode": {
    "name": "ipython",
    "version": 3
   },
   "file_extension": ".py",
   "mimetype": "text/x-python",
   "name": "python",
   "nbconvert_exporter": "python",
   "pygments_lexer": "ipython3",
   "version": "3.10.5 (v3.10.5:f377153967, Jun  6 2022, 12:36:10) [Clang 13.0.0 (clang-1300.0.29.30)]"
  },
  "orig_nbformat": 4,
  "vscode": {
   "interpreter": {
    "hash": "fff13c38a46822d60c7b73f796a2111ff12f39e782d1b078f198f70cbfb24acd"
   }
  }
 },
 "nbformat": 4,
 "nbformat_minor": 2
}
