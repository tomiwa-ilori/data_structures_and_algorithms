{
 "cells": [
  {
   "cell_type": "markdown",
   "metadata": {},
   "source": [
    "### Learning How Minimum Difference is implemented in Data Structures and Algorithms"
   ]
  },
  {
   "cell_type": "code",
   "execution_count": null,
   "metadata": {},
   "outputs": [],
   "source": [
    "def getMinimumDifference(a, b):\n",
    "\n",
    "    #for i in a:\n",
    "    #    for j in b:\n",
    "    #     if len(i) != len(j):\n",
    "    #        print ( -1)\n",
    "    #        #print (i, j)\n",
    "    count = 0\n",
    "\n",
    "    for i in b:\n",
    "        for j in a:\n",
    "\n",
    "            if sorted(list(i)) != sorted(list(j)):\n",
    "                count += 1\n",
    "        return count    "
   ]
  },
  {
   "cell_type": "code",
   "execution_count": null,
   "metadata": {},
   "outputs": [],
   "source": [
    "a = ['tea', 'tea', 'abb', 'act']\n",
    "b = ['ate', 'toe', 'bbc', 'acts']\n",
    "getMinimumDifference(a, b)"
   ]
  },
  {
   "cell_type": "code",
   "execution_count": null,
   "metadata": {},
   "outputs": [],
   "source": [
    "a = ['tea', 'tea', 'act']\n",
    "b = ['ate', 'toe', 'acts']\n",
    "count = 0\n",
    "\n",
    "for i,j in zip(a,b):\n",
    "    if (set(i) != set(j)):\n",
    "            count += 1\n",
    "            print (count)\n",
    "        #if set(i) == set(j):\n",
    "        #print (set(i), set(j))\n",
    "\n",
    "        #if sorted(list(i)) != sorted(list(j)):\n",
    "         #   print (sorted(list(i)) , sorted(list(j)))\n",
    "            #print ('yes')"
   ]
  },
  {
   "cell_type": "code",
   "execution_count": null,
   "metadata": {},
   "outputs": [],
   "source": [
    "def getMinimumDifference(a, b):\n",
    "    outcome = []\n",
    "    for i,j in zip(a,b):\n",
    "        if set(i) == set(j):\n",
    "            outcome.append(0) # store anagrams that do no need to be modified\n",
    "        elif len(i) != len(j):\n",
    "           outcome.append(-1) # store anagrams that contain different lenght of characters \n",
    "        else:\n",
    "            count = 0\n",
    "            if (set(i) != set(j)):\n",
    "                count += 1\n",
    "                outcome.append(count)  \n",
    "    return outcome\n",
    "        #elif len(i) != len(j):\n",
    "        #   outcome.append(-1)"
   ]
  },
  {
   "cell_type": "code",
   "execution_count": null,
   "metadata": {},
   "outputs": [],
   "source": [
    "a = ['tea', 'tea', 'abb', 'act']\n",
    "b = ['ate', 'toe', 'bbc', 'acts']\n",
    "getMinimumDifference(a, b)"
   ]
  }
 ],
 "metadata": {
  "kernelspec": {
   "display_name": "Python 3.10.5 ('venv': venv)",
   "language": "python",
   "name": "python3"
  },
  "language_info": {
   "name": "python",
   "version": "3.10.5 (v3.10.5:f377153967, Jun  6 2022, 12:36:10) [Clang 13.0.0 (clang-1300.0.29.30)]"
  },
  "orig_nbformat": 4,
  "vscode": {
   "interpreter": {
    "hash": "fff13c38a46822d60c7b73f796a2111ff12f39e782d1b078f198f70cbfb24acd"
   }
  }
 },
 "nbformat": 4,
 "nbformat_minor": 2
}
