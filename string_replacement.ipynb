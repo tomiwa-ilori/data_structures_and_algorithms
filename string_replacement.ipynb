{
 "cells": [
  {
   "cell_type": "markdown",
   "metadata": {},
   "source": [
    "### Learning How String Replacement is implemented in Data Structures and Algorithms"
   ]
  },
  {
   "cell_type": "code",
   "execution_count": 21,
   "metadata": {},
   "outputs": [],
   "source": [
    "def findReplaceString(s, indices, sources, targets):\n",
    "    \"\"\"\n",
    "        Create a mapping between positions in indices and substrings in sources and targets\n",
    "        Iterate through the input string and see if a replacement with substrings in targets is needed or not\n",
    "        Return the replaced string\n",
    "    \"\"\"\n",
    "\n",
    "    indices_position_to_source_and_target = {}\n",
    "    for i in range(len(indices)):\n",
    "        pos = indices[i]\n",
    "        indices_position_to_source_and_target[pos] = (sources[i], targets[i])\n",
    "        i = 0\n",
    "        outcome = ''\n",
    "        while i < len(s):\n",
    "            if i in indices_position_to_source_and_target and s[i:].startswith(indices_position_to_source_and_target[i][0]):\n",
    "                source = indices_position_to_source_and_target[i][0]\n",
    "                target = indices_position_to_source_and_target[i][1]\n",
    "                outcome += target\n",
    "                i += len(source)\n",
    "            else:\n",
    "                outcome += s[i]\n",
    "                i += 1        \n",
    "                \n",
    "    return outcome"
   ]
  },
  {
   "cell_type": "code",
   "execution_count": 22,
   "metadata": {},
   "outputs": [
    {
     "data": {
      "text/plain": [
       "'eeebffff'"
      ]
     },
     "execution_count": 22,
     "metadata": {},
     "output_type": "execute_result"
    }
   ],
   "source": [
    "# specify variables and run function\n",
    "\n",
    "indices = [0, 2]\n",
    "s = \"abcd\"\n",
    "sources = [\"a\", \"cd\"]\n",
    "targets = [\"eee\", \"ffff\"]\n",
    "\n",
    "\n",
    "# run function and get string replacement\n",
    "findReplaceString(s, indices, sources, targets)"
   ]
  },
  {
   "cell_type": "code",
   "execution_count": 17,
   "metadata": {},
   "outputs": [],
   "source": [
    "indices = [0, 2]\n",
    "s = \"abcd\"\n",
    "sources = [\"a\", \"cd\"]\n",
    "targets = [\"eee\", \"ffff\"]"
   ]
  },
  {
   "cell_type": "code",
   "execution_count": 20,
   "metadata": {},
   "outputs": [
    {
     "name": "stdout",
     "output_type": "stream",
     "text": [
      "{0: ('a', 'eee')}\n",
      "{0: ('a', 'eee'), 2: ('cd', 'ffff')}\n"
     ]
    }
   ],
   "source": [
    "map_indices = {}\n",
    "for i in range(len(indices)):\n",
    "    pos  = indices[i]\n",
    "    map_indices[pos] = (sources[i], targets[i])\n",
    "    print (map_indices)\n",
    "    "
   ]
  },
  {
   "cell_type": "code",
   "execution_count": null,
   "metadata": {},
   "outputs": [],
   "source": []
  }
 ],
 "metadata": {
  "kernelspec": {
   "display_name": "Python 3.10.5 ('venv': venv)",
   "language": "python",
   "name": "python3"
  },
  "language_info": {
   "codemirror_mode": {
    "name": "ipython",
    "version": 3
   },
   "file_extension": ".py",
   "mimetype": "text/x-python",
   "name": "python",
   "nbconvert_exporter": "python",
   "pygments_lexer": "ipython3",
   "version": "3.10.5"
  },
  "orig_nbformat": 4,
  "vscode": {
   "interpreter": {
    "hash": "fff13c38a46822d60c7b73f796a2111ff12f39e782d1b078f198f70cbfb24acd"
   }
  }
 },
 "nbformat": 4,
 "nbformat_minor": 2
}
