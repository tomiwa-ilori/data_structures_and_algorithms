{
 "cells": [
  {
   "cell_type": "markdown",
   "metadata": {},
   "source": [
    "### Learning How Merge Sort is implemented in Data Structures and Algorithms"
   ]
  },
  {
   "cell_type": "code",
   "execution_count": 5,
   "metadata": {},
   "outputs": [],
   "source": [
    "def merge_sort(list):\n",
    "\n",
    "    \"\"\"\n",
    "    Breakdown lists into sub components\n",
    "    Sorts list in ascending order\n",
    "    Returns new sorted list\n",
    "\n",
    "    Steps: Divide and Conquer approach\n",
    "    step 1: Locate mid-point and divide into sublists\n",
    "    step 2: Recursively sort the sublists from step 1\n",
    "    step 3: Merge the sorted sublists from step 2\n",
    "\n",
    "    Time complexity: O(n log n)\n",
    "    \"\"\"\n",
    "    if len(list) <= 1:                                  # list should contain more than 1 element\n",
    "        return list\n",
    "\n",
    "    left_half, right_half = split(list)                 # call the split function on list input\n",
    "    left = merge_sort(left_half)\n",
    "    right = merge_sort(right_half)\n",
    "\n",
    "    return merge(left, right)\n",
    "\n",
    "def split(list):\n",
    "\n",
    "    \"\"\"\n",
    "    Divide the unordered list into two sublists by splitting at midpoint\n",
    "    Return the two sublists\n",
    "\n",
    "    Time Complexity: O(log n) constant time but it splits repeatedly hence logarithmic runtime\n",
    "    \"\"\"\n",
    "\n",
    "    midpoint = len(list)//2              # floor division(quotient)\n",
    "    left = list[:midpoint]               # take the values from starting point up until podition before the midpoint\n",
    "    right = list[midpoint:]              # extract value from the midpoint all the way to the end of the list\n",
    "\n",
    "# change splitting above to recursive \n",
    "\n",
    "    return left, right\n",
    "\n",
    "\n",
    "def merge(left, right):\n",
    "\n",
    "    \"\"\"\n",
    "    Merge two list, sort while merging\n",
    "    Return the merged list\n",
    "\n",
    "    Time Complexity: O(n) because it goes from single to combined ang goes throught elements one by one\n",
    "    \"\"\"\n",
    "\n",
    "    new_list = []\n",
    "    i = 0\n",
    "    j = 0\n",
    "\n",
    "    while i < len(left) and j < len(right):\n",
    "        if left[i] < right[j]:                 # if the value in position i is less than the value in position j\n",
    "            new_list.append(left[i])                  # update the value of the new list new_list by the value in the position i of the left list\n",
    "            i += 1                             # iterate through the list for other position of i in the left list\n",
    "        else:                                  # if the value in position i is greater than or equal to the value in position j \n",
    "            new_list.append(right[j])                 # update the value of the new list new_list by the value in the position j of the right list \n",
    "            j += 1                             # iterate through the list for other position of j in the right list\n",
    "\n",
    "    while i < len(left):\n",
    "        new_list.append(left[i])\n",
    "        i += 1\n",
    "\n",
    "    while j < len(right):\n",
    "        new_list.append(right[j])\n",
    "        j += 1\n",
    "\n",
    "    return new_list\n",
    "\n",
    "def sorting_status(list):\n",
    "    \"\"\"\n",
    "    If the query exists, print the position. If not, raise notification\n",
    "    \"\"\"\n",
    "    \n",
    "    if len(list) == 0 or len(list) == 1:\n",
    "        return True\n",
    "\n",
    "    return list[0] < list[1] and sorting_status(list[1:]) # recursive call to check previous positional value is less than next positional value"
   ]
  },
  {
   "cell_type": "code",
   "execution_count": 8,
   "metadata": {},
   "outputs": [
    {
     "name": "stdout",
     "output_type": "stream",
     "text": [
      "[8, 13, 15, 18, 25, 40, 45, 76, 87, 95, 110]\n",
      "False\n",
      "True\n"
     ]
    }
   ],
   "source": [
    "numbers  = [110, 13, 45, 25, 40, 15, 87, 18, 95, 76, 8]\n",
    "\n",
    "new_numbers = merge_sort(numbers)\n",
    "\n",
    "print(new_numbers)\n",
    "print(sorting_status(numbers))\n",
    "print(sorting_status(new_numbers))\n",
    "\n"
   ]
  },
  {
   "cell_type": "code",
   "execution_count": null,
   "metadata": {},
   "outputs": [],
   "source": []
  },
  {
   "cell_type": "code",
   "execution_count": null,
   "metadata": {},
   "outputs": [],
   "source": []
  }
 ],
 "metadata": {
  "kernelspec": {
   "display_name": "Python 3.10.5 ('venv': venv)",
   "language": "python",
   "name": "python3"
  },
  "language_info": {
   "codemirror_mode": {
    "name": "ipython",
    "version": 3
   },
   "file_extension": ".py",
   "mimetype": "text/x-python",
   "name": "python",
   "nbconvert_exporter": "python",
   "pygments_lexer": "ipython3",
   "version": "3.10.5"
  },
  "orig_nbformat": 4,
  "vscode": {
   "interpreter": {
    "hash": "fff13c38a46822d60c7b73f796a2111ff12f39e782d1b078f198f70cbfb24acd"
   }
  }
 },
 "nbformat": 4,
 "nbformat_minor": 2
}
