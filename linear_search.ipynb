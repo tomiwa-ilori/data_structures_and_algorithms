{
 "cells": [
  {
   "cell_type": "markdown",
   "metadata": {},
   "source": [
    "### Learning How Linear Search is implemented in Data Structures and Algorithms"
   ]
  },
  {
   "cell_type": "code",
   "execution_count": 20,
   "metadata": {},
   "outputs": [],
   "source": [
    "# Given a set of numbers from 1 - 10, find if a target number exists and print its position\n",
    "\n",
    "def linear_search(list_numbers, query):\n",
    "    \"\"\"\n",
    "    Return the index position of the query in the list \n",
    "    \"\"\"\n",
    "\n",
    "    # we loop through the list to see if the number is present first\n",
    "    for i in range(0, len(list_numbers)): # for each item in the position\n",
    "        if list_numbers[i] == query:     # print the value of the item in each position\n",
    "            return i                      # return the position of the value\n",
    "    return None\n",
    "\n",
    "\n",
    "def query_status(query_index):\n",
    "    \"\"\"\n",
    "    If the query exists, print the position. If not, raise notification\n",
    "    \"\"\"\n",
    "    if query_index is not None:\n",
    "        print (\"Value exists and is located at index\", query_index)\n",
    "    else:\n",
    "        print (\"Value does not exist!\")\n"
   ]
  },
  {
   "cell_type": "code",
   "execution_count": 21,
   "metadata": {},
   "outputs": [
    {
     "name": "stdout",
     "output_type": "stream",
     "text": [
      "Value exists and is located at index 6\n"
     ]
    }
   ],
   "source": [
    "# create a list\n",
    "numbers  = [1,2,3,4,5,6,7,8,9,10]\n",
    "query = 7\n",
    "\n",
    "# run functions on the list and target query\n",
    "outcome = linear_search(numbers, query)\n",
    "query_status(outcome)"
   ]
  },
  {
   "cell_type": "code",
   "execution_count": null,
   "metadata": {},
   "outputs": [],
   "source": []
  }
 ],
 "metadata": {
  "kernelspec": {
   "display_name": "Python 3.10.5 ('venv': venv)",
   "language": "python",
   "name": "python3"
  },
  "language_info": {
   "codemirror_mode": {
    "name": "ipython",
    "version": 3
   },
   "file_extension": ".py",
   "mimetype": "text/x-python",
   "name": "python",
   "nbconvert_exporter": "python",
   "pygments_lexer": "ipython3",
   "version": "3.10.5"
  },
  "orig_nbformat": 4,
  "vscode": {
   "interpreter": {
    "hash": "fff13c38a46822d60c7b73f796a2111ff12f39e782d1b078f198f70cbfb24acd"
   }
  }
 },
 "nbformat": 4,
 "nbformat_minor": 2
}
